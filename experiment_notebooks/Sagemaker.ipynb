{
 "cells": [
  {
   "cell_type": "code",
   "execution_count": 15,
   "id": "90c858b7",
   "metadata": {},
   "outputs": [],
   "source": [
    "import os\n",
    "import boto3\n",
    "import sagemaker\n",
    "import numpy as np\n",
    "from sagemaker.tensorflow import TensorFlowModel\n",
    "from sagemaker.tensorflow import TensorFlowPredictor\n",
    "from keras.preprocessing.image import load_img, img_to_array"
   ]
  },
  {
   "cell_type": "code",
   "execution_count": 2,
   "id": "79e024b5",
   "metadata": {},
   "outputs": [],
   "source": [
    "session = boto3.Session(\n",
    "    aws_access_key_id='XXXXXXXXXXXXXXXXXXXXXXXXXX',\n",
    "    aws_secret_access_key='XXXXXXXXXXXXXXXXXXXXXXXXXXXXXXXX',\n",
    "    region_name='XXXXXXXXXX'\n",
    ")"
   ]
  },
  {
   "cell_type": "code",
   "execution_count": 3,
   "id": "9416b7ef",
   "metadata": {},
   "outputs": [],
   "source": [
    "model_data = \"s3://my-image-classification/models/final.tar.gz\""
   ]
  },
  {
   "cell_type": "code",
   "execution_count": 4,
   "id": "d8fddc3c",
   "metadata": {},
   "outputs": [],
   "source": [
    "def deploy_model(s3_model_path, sagemaker_role):\n",
    "    model = TensorFlowModel(model_data=s3_model_path, role=sagemaker_role, framework_version=\"2.4.1\")\n",
    "    predictor = model.deploy(initial_instance_count=1, instance_type=\"ml.m5.xlarge\")\n",
    "    \n",
    "    return predictor"
   ]
  },
  {
   "cell_type": "code",
   "execution_count": 17,
   "id": "00cdcf27",
   "metadata": {},
   "outputs": [],
   "source": [
    "def claasify(image_path):\n",
    "    class_map = {0: 'human', 1: 'no_human', 2: 'uber_eats'}\n",
    "\n",
    "    endpoint = 'tensorflow-inference-2024-02-04-05-46-29-688'\n",
    "    predictor = TensorFlowPredictor(endpoint)\n",
    "\n",
    "    img = load_img(image_path, target_size=(224, 224))\n",
    "    img_array = img_to_array(img)\n",
    "\n",
    "    # Preprocess the image\n",
    "    img_batch = np.expand_dims(img_array, axis=0)\n",
    "    img_batch = img_batch / 255.0  # Normalize to [0, 1] range\n",
    "\n",
    "    inference_response = predictor.predict(img_batch)\n",
    "    predictions = np.array(inference_response['predictions'][0])\n",
    "\n",
    "    pred_class = predictions.argmax()\n",
    "    pred_prob = predictions[pred_class]\n",
    "\n",
    "    pred_label = class_map[pred_class]\n",
    "\n",
    "    return pred_label"
   ]
  },
  {
   "cell_type": "code",
   "execution_count": 6,
   "id": "f9cb4e37",
   "metadata": {},
   "outputs": [
    {
     "name": "stdout",
     "output_type": "stream",
     "text": [
      "---!"
     ]
    },
    {
     "data": {
      "text/plain": [
       "<sagemaker.tensorflow.model.TensorFlowPredictor at 0x105fc7640>"
      ]
     },
     "execution_count": 6,
     "metadata": {},
     "output_type": "execute_result"
    }
   ],
   "source": [
    "deploy_model(model_data, \"sagemaker-role\")"
   ]
  },
  {
   "cell_type": "code",
   "execution_count": 18,
   "id": "eb8e0cc7",
   "metadata": {},
   "outputs": [
    {
     "name": "stdout",
     "output_type": "stream",
     "text": [
      "human\n"
     ]
    }
   ],
   "source": [
    "test_path = \"/Users/deveshparmar/Citadel/Assignments/Hawells/split_dataset_2/test\"\n",
    "image_path = os.path.join(test_path, \"human\", \"434.png\")\n",
    "label = claasify(image_path)\n",
    "print(label)"
   ]
  },
  {
   "cell_type": "code",
   "execution_count": 19,
   "id": "0a702570",
   "metadata": {},
   "outputs": [],
   "source": [
    "import os\n",
    "import json"
   ]
  },
  {
   "cell_type": "markdown",
   "id": "0f5b3762",
   "metadata": {},
   "source": [
    "## Convert to TF servable model"
   ]
  },
  {
   "cell_type": "code",
   "execution_count": 5,
   "id": "8df86c6d",
   "metadata": {},
   "outputs": [],
   "source": [
    "my_model = load_model('tl_final_model_v1.weights.best.hdf5')"
   ]
  },
  {
   "cell_type": "code",
   "execution_count": 7,
   "id": "3d1492b5",
   "metadata": {},
   "outputs": [],
   "source": [
    "model_save_path = os.path.join(os.getcwd(), \"final_model/1\")"
   ]
  },
  {
   "cell_type": "code",
   "execution_count": 8,
   "id": "eabc1880",
   "metadata": {},
   "outputs": [
    {
     "name": "stdout",
     "output_type": "stream",
     "text": [
      "INFO:tensorflow:Assets written to: /Users/deveshparmar/Citadel/Assignments/Hawells/final_model/1/assets\n"
     ]
    },
    {
     "name": "stderr",
     "output_type": "stream",
     "text": [
      "INFO:tensorflow:Assets written to: /Users/deveshparmar/Citadel/Assignments/Hawells/final_model/1/assets\n"
     ]
    }
   ],
   "source": [
    "tf.saved_model.save(my_model, model_save_path)"
   ]
  }
 ],
 "metadata": {
  "kernelspec": {
   "display_name": "Python 3 (ipykernel)",
   "language": "python",
   "name": "python3"
  },
  "language_info": {
   "codemirror_mode": {
    "name": "ipython",
    "version": 3
   },
   "file_extension": ".py",
   "mimetype": "text/x-python",
   "name": "python",
   "nbconvert_exporter": "python",
   "pygments_lexer": "ipython3",
   "version": "3.10.13"
  }
 },
 "nbformat": 4,
 "nbformat_minor": 5
}
