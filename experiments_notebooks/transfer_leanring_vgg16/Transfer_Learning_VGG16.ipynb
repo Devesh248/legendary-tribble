{
  "nbformat": 4,
  "nbformat_minor": 0,
  "metadata": {
    "colab": {
      "provenance": [],
      "gpuType": "T4"
    },
    "kernelspec": {
      "name": "python3",
      "display_name": "Python 3"
    },
    "language_info": {
      "name": "python"
    },
    "accelerator": "GPU"
  },
  "cells": [
    {
      "cell_type": "markdown",
      "source": [
        "This notebook contain the flow of using pre-trained VGG16 model for the image classification.\n",
        "\n",
        "Experiment configuration:\n",
        "\n",
        "\n",
        "1.   Added custom dense layer to accommodate number of classes (3)\n",
        "2.   Kept all the trainable layers frozen (No learning)\n",
        "\n"
      ],
      "metadata": {
        "id": "wUnEnHBxoXA5"
      }
    },
    {
      "cell_type": "code",
      "source": [
        "!pip install boto3==1.34.31\n",
        "!pip install livelossplot"
      ],
      "metadata": {
        "id": "JL_XCHPKplwg"
      },
      "execution_count": null,
      "outputs": []
    },
    {
      "cell_type": "code",
      "execution_count": 4,
      "metadata": {
        "id": "9Rni_AMn8jus"
      },
      "outputs": [],
      "source": [
        "import os\n",
        "import boto3\n",
        "from keras.models import Model\n",
        "from keras.optimizers import Adam\n",
        "from keras.applications.vgg16 import VGG16, preprocess_input\n",
        "from keras.preprocessing.image import ImageDataGenerator\n",
        "from keras.callbacks import ModelCheckpoint, EarlyStopping\n",
        "from keras.layers import Dense, Dropout, Flatten\n",
        "from pathlib import Path\n",
        "import numpy as np"
      ]
    },
    {
      "cell_type": "markdown",
      "source": [
        "### Download data from S3 bucket"
      ],
      "metadata": {
        "id": "-njCYZ_AmgLu"
      }
    },
    {
      "cell_type": "code",
      "source": [
        "AWS_ACCESS_KEY_ID = \"XXXXXXXXXXX\"\n",
        "AWS_SECRET_ACCESS_KEY = \"XXXXXXXXXXXXXXXXXXXXXXXX\"\n",
        "AWS_REGION = \"XXXXXXXXXXXXXXXXXXXXXX\""
      ],
      "metadata": {
        "id": "ptBKhzkcmJ7l"
      },
      "execution_count": 5,
      "outputs": []
    },
    {
      "cell_type": "code",
      "source": [
        "s3 = boto3.client(\n",
        "    \"s3\",\n",
        "    aws_access_key_id=AWS_ACCESS_KEY_ID,\n",
        "    aws_secret_access_key=AWS_SECRET_ACCESS_KEY,\n",
        "    region_name=AWS_REGION\n",
        ")"
      ],
      "metadata": {
        "id": "HGClSRPgqcjf"
      },
      "execution_count": 7,
      "outputs": []
    },
    {
      "cell_type": "code",
      "source": [
        "bucket_name = \"my-image-classification\"\n",
        "file_key = \"split_dataset_3.zip\"\n",
        "download_path = os.getcwd()\n",
        "s3.download_file(bucket_name, file_key, os.path.join(download_path, \"downloaded_data.zip\"))"
      ],
      "metadata": {
        "id": "lNrkneCNmrCs"
      },
      "execution_count": 8,
      "outputs": []
    },
    {
      "cell_type": "code",
      "source": [
        "!unzip downloaded_data.zip"
      ],
      "metadata": {
        "id": "gzHxNFZnnJ17"
      },
      "execution_count": null,
      "outputs": []
    },
    {
      "cell_type": "code",
      "source": [
        "data_path = os.path.join(download_path, 'split_dataset_3')"
      ],
      "metadata": {
        "id": "16kjgWyrnPu8"
      },
      "execution_count": 10,
      "outputs": []
    },
    {
      "cell_type": "code",
      "source": [
        "# data_path = \"/content/drive/MyDrive/ml_data/Hawells Image Classificatio/split_dataset_3\""
      ],
      "metadata": {
        "id": "sNx_4RJr8tBB"
      },
      "execution_count": null,
      "outputs": []
    },
    {
      "cell_type": "code",
      "source": [
        "# Constants\n",
        "\n",
        "img_height = 224\n",
        "img_width = 224\n",
        "\n",
        "num_classes = 3\n",
        "batch_size = 64\n",
        "\n",
        "num_epochs = 100"
      ],
      "metadata": {
        "id": "e3J_F6Sf8_yG"
      },
      "execution_count": 11,
      "outputs": []
    },
    {
      "cell_type": "code",
      "source": [
        "## Data Preparation\n",
        "\n",
        "# Assuming you have your images organized in separate folders for each class\n",
        "\n",
        "\n",
        "scale_datagen = ImageDataGenerator(rescale=1./255)\n",
        "\n",
        "aug_datagen = ImageDataGenerator(\n",
        "    rescale=1./255,  # Rescale pixel values to 0-1\n",
        "    rotation_range=40,  # Rotate images randomly by up to 40 degrees\n",
        "    width_shift_range=0.2,  # Shift images horizontally by up to 20%\n",
        "    height_shift_range=0.2,  # Shift images vertically by up to 20%\n",
        "    shear_range=0.2,  # Shear images randomly\n",
        "    zoom_range=0.2,  # Zoom images randomly\n",
        "    horizontal_flip=True,  # Flip images horizontally randomly\n",
        "    fill_mode='nearest')  # Fill empty pixels with nearest neighbor interpolation\n",
        "\n",
        "\n",
        "train_generator = aug_datagen.flow_from_directory(\n",
        "    os.path.join(data_path, \"train\"),\n",
        "    target_size=(img_height, img_width),  # Resize images to a consistent size\n",
        "    batch_size=batch_size,\n",
        "    shuffle=True,\n",
        "    class_mode='categorical')\n",
        "\n",
        "test_generator = aug_datagen.flow_from_directory(\n",
        "    os.path.join(data_path, \"test\"),\n",
        "    target_size=(img_height, img_width),  # Resize images to a consistent size\n",
        "    batch_size=batch_size,\n",
        "    shuffle=True,\n",
        "    class_mode='categorical')\n",
        "\n",
        "val_generator = aug_datagen.flow_from_directory(\n",
        "    os.path.join(data_path, \"val\"),\n",
        "    target_size=(img_height, img_width),  # Resize images to a consistent size\n",
        "    batch_size=batch_size,\n",
        "    shuffle=True,\n",
        "    class_mode='categorical')\n",
        "\n",
        "label_map = (test_generator.class_indices)\n",
        "class_map = dict((v,k) for k, v in label_map.items())"
      ],
      "metadata": {
        "colab": {
          "base_uri": "https://localhost:8080/"
        },
        "id": "uSmJ4p429CWq",
        "outputId": "53d5154c-3a92-4b5f-b247-d935bb91369e"
      },
      "execution_count": 12,
      "outputs": [
        {
          "output_type": "stream",
          "name": "stdout",
          "text": [
            "Found 1449 images belonging to 3 classes.\n",
            "Found 183 images belonging to 3 classes.\n",
            "Found 181 images belonging to 3 classes.\n"
          ]
        }
      ]
    },
    {
      "cell_type": "code",
      "source": [
        "class_map"
      ],
      "metadata": {
        "colab": {
          "base_uri": "https://localhost:8080/"
        },
        "id": "a6AAflpyrACR",
        "outputId": "04c4895c-06b2-4e31-c2e9-f268a9334c2c"
      },
      "execution_count": 13,
      "outputs": [
        {
          "output_type": "execute_result",
          "data": {
            "text/plain": [
              "{0: 'human', 1: 'no_human', 2: 'uber_eats'}"
            ]
          },
          "metadata": {},
          "execution_count": 13
        }
      ]
    },
    {
      "cell_type": "code",
      "source": [
        "def create_model(input_shape, n_classes, optimizer='rmsprop', fine_tune=0):\n",
        "    \"\"\"\n",
        "    Compiles a model integrated with VGG16 pretrained layers\n",
        "\n",
        "    input_shape: tuple - the shape of input images (width, height, channels)\n",
        "    n_classes: int - number of classes for the output layer\n",
        "    optimizer: string - instantiated optimizer to use for training. Defaults to 'RMSProp'\n",
        "    fine_tune: int - The number of pre-trained layers to unfreeze.\n",
        "                If set to 0, all pretrained layers will freeze during training\n",
        "    \"\"\"\n",
        "\n",
        "    # Pretrained convolutional layers are loaded using the Imagenet weights.\n",
        "    # Include_top is set to False, in order to exclude the model's fully-connected layers.\n",
        "    conv_base = VGG16(include_top=False,\n",
        "                     weights='imagenet',\n",
        "                     input_shape=input_shape)\n",
        "\n",
        "    # Defines how many layers to freeze during training.\n",
        "    # Layers in the convolutional base are switched from trainable to non-trainable\n",
        "    # depending on the size of the fine-tuning parameter.\n",
        "    if fine_tune > 0:\n",
        "        for layer in conv_base.layers[:-fine_tune]:\n",
        "            layer.trainable = False\n",
        "    else:\n",
        "        for layer in conv_base.layers:\n",
        "            layer.trainable = False\n",
        "\n",
        "    # Create a new 'top' of the model (i.e. fully-connected layers).\n",
        "    # This is 'bootstrapping' a new top_model onto the pretrained layers.\n",
        "    top_model = conv_base.output\n",
        "    top_model = Flatten(name=\"flatten\")(top_model)\n",
        "    top_model = Dense(4096, activation='relu')(top_model)\n",
        "    top_model = Dense(1072, activation='relu')(top_model)\n",
        "    top_model = Dropout(0.2)(top_model)\n",
        "    output_layer = Dense(n_classes, activation='softmax')(top_model)\n",
        "\n",
        "    # Group the convolutional base and new fully-connected layers into a Model object.\n",
        "    model = Model(inputs=conv_base.input, outputs=output_layer)\n",
        "\n",
        "    # Compiles the model for training.\n",
        "    model.compile(optimizer=optimizer,\n",
        "                  loss='categorical_crossentropy',\n",
        "                  metrics=['accuracy'])\n",
        "\n",
        "    return model"
      ],
      "metadata": {
        "id": "LFs1NBW09J4O"
      },
      "execution_count": 14,
      "outputs": []
    },
    {
      "cell_type": "code",
      "source": [
        "input_shape = (img_height, img_width, 3)\n",
        "optim_1 = Adam(learning_rate=0.001)\n",
        "\n",
        "n_steps = train_generator.samples // batch_size\n",
        "n_val_steps = val_generator.samples // batch_size\n",
        "n_epochs = 100\n",
        "\n",
        "# First we'll train the model without Fine-tuning\n",
        "vgg_model = create_model(input_shape, num_classes, optim_1, fine_tune=0)"
      ],
      "metadata": {
        "id": "h0KKtD9O9TM7",
        "colab": {
          "base_uri": "https://localhost:8080/"
        },
        "outputId": "105fd467-c59d-4137-9b35-aa1820a8cc8c"
      },
      "execution_count": 15,
      "outputs": [
        {
          "output_type": "stream",
          "name": "stdout",
          "text": [
            "Downloading data from https://storage.googleapis.com/tensorflow/keras-applications/vgg16/vgg16_weights_tf_dim_ordering_tf_kernels_notop.h5\n",
            "58889256/58889256 [==============================] - 0s 0us/step\n"
          ]
        }
      ]
    },
    {
      "cell_type": "code",
      "source": [
        "from livelossplot.inputs.keras import PlotLossesCallback\n",
        "\n",
        "plot_loss_1 = PlotLossesCallback()\n",
        "\n",
        "# ModelCheckpoint callback - save best weights\n",
        "tl_checkpoint_1 = ModelCheckpoint(filepath='tl_model_v1.weights.best.hdf5',\n",
        "                                  save_best_only=True,\n",
        "                                  verbose=1)\n",
        "\n",
        "# EarlyStopping\n",
        "early_stop = EarlyStopping(monitor='val_loss',\n",
        "                           patience=10,\n",
        "                           restore_best_weights=True,\n",
        "                           mode='min')"
      ],
      "metadata": {
        "id": "OnXKiduZ9XK4"
      },
      "execution_count": 16,
      "outputs": []
    },
    {
      "cell_type": "code",
      "source": [
        "vgg_history = vgg_model.fit(train_generator,\n",
        "                            batch_size=batch_size,\n",
        "                            epochs=n_epochs,\n",
        "                            validation_data=val_generator,\n",
        "                            steps_per_epoch=n_steps,\n",
        "                            validation_steps=n_val_steps,\n",
        "                            callbacks=[tl_checkpoint_1, early_stop, plot_loss_1],\n",
        "                            verbose=1)"
      ],
      "metadata": {
        "colab": {
          "base_uri": "https://localhost:8080/",
          "height": 929
        },
        "id": "wxmYTqgI9eXe",
        "outputId": "bdc901a7-14aa-4d4e-9a6d-9328ee0013a8"
      },
      "execution_count": 17,
      "outputs": [
        {
          "output_type": "display_data",
          "data": {
            "text/plain": [
              "<Figure size 1200x800 with 2 Axes>"
            ],
            "image/png": "[encoded data removed]"
          },
          "metadata": {}
        },
        {
          "output_type": "stream",
          "name": "stdout",
          "text": [
            "accuracy\n",
            "\ttraining         \t (min:    0.401, max:    0.956, cur:    0.956)\n",
            "\tvalidation       \t (min:    0.633, max:    0.938, cur:    0.883)\n",
            "Loss\n",
            "\ttraining         \t (min:    0.137, max:   10.387, cur:    0.137)\n",
            "\tvalidation       \t (min:    0.150, max:    1.111, cur:    0.262)\n",
            "\b\b\b\b\b\b\b\b\b\b\b\b\b\b\b\b\b\b\b\b\b\b\b\b\b\b\b\b\b\b\b\b\b\b\b\b\b\b\b\b\b\b\b\b\b\b\b\b\b\b\b\b\b\b\b\b\b\b\b\b\b\b\b\b\b\b\b\b\b\b\b\b\b\b\b\b\b\b\b\b\b\b\r22/22 [==============================] - 26s 1s/step - loss: 0.1372 - accuracy: 0.9560 - val_loss: 0.2620 - val_accuracy: 0.8828\n"
          ]
        }
      ]
    },
    {
      "cell_type": "code",
      "source": [
        "# Upload model to S3\n",
        "s3.upload_file('tl_model_v1.weights.best.hdf5', bucket_name, os.path.join(\"models\", \"tl_1_model_v1.weights.best.hdf5\"))\n",
        "print(\"File uploaded successfully!\")"
      ],
      "metadata": {
        "colab": {
          "base_uri": "https://localhost:8080/"
        },
        "id": "3ednLl7cw1Ma",
        "outputId": "2bcadac7-9db3-4835-ba5d-e4bfed0f8249"
      },
      "execution_count": 25,
      "outputs": [
        {
          "output_type": "stream",
          "name": "stdout",
          "text": [
            "File uploaded successfully!\n"
          ]
        }
      ]
    },
    {
      "cell_type": "code",
      "source": [
        "import shutil"
      ],
      "metadata": {
        "id": "Jf3cH-XQGJu1"
      },
      "execution_count": 18,
      "outputs": []
    },
    {
      "cell_type": "code",
      "source": [
        "model_path = \"/content/drive/MyDrive/ml_data/Hawells Image Classificatio/model\""
      ],
      "metadata": {
        "id": "fLKkbcRjv-Z5"
      },
      "execution_count": 20,
      "outputs": []
    },
    {
      "cell_type": "code",
      "source": [
        "shutil.copy('tl_model_v1.weights.best.hdf5', os.path.join(model_path, 'tl_1_model_v1.weights.best.hdf5'))"
      ],
      "metadata": {
        "colab": {
          "base_uri": "https://localhost:8080/",
          "height": 35
        },
        "id": "CzQMF_ciIFL7",
        "outputId": "ab63126d-51e5-4774-bbf6-82e67719652f"
      },
      "execution_count": 21,
      "outputs": [
        {
          "output_type": "execute_result",
          "data": {
            "text/plain": [
              "'/content/drive/MyDrive/ml_data/Hawells Image Classificatio/model/tl_1_model_v1.weights.best.hdf5'"
            ],
            "application/vnd.google.colaboratory.intrinsic+json": {
              "type": "string"
            }
          },
          "metadata": {},
          "execution_count": 21
        }
      ]
    },
    {
      "cell_type": "code",
      "source": [
        "from sklearn.metrics import accuracy_score, precision_score, recall_score, confusion_matrix, classification_report\n",
        "from keras.models import load_model"
      ],
      "metadata": {
        "id": "MakA1KD6EFoz"
      },
      "execution_count": 22,
      "outputs": []
    },
    {
      "cell_type": "code",
      "source": [
        "def get_report():\n",
        "    test_steps_per_epoch = np.math.ceil(test_generator.samples / test_generator.batch_size)\n",
        "    model = load_model('tl_model_v1.weights.best.hdf5')\n",
        "    predictions = model.predict(test_generator, steps=test_steps_per_epoch)\n",
        "    predicted_classes = np.argmax(predictions, axis=1)\n",
        "    true_classes = test_generator.classes\n",
        "    class_labels = list(test_generator.class_indices.keys())\n",
        "    report1 = classification_report(true_classes, predicted_classes, target_names=class_labels, output_dict=True)\n",
        "    report2 = classification_report(true_classes, predicted_classes, target_names=class_labels)\n",
        "\n",
        "    print(report2)"
      ],
      "metadata": {
        "id": "k-GlRxC593aT"
      },
      "execution_count": 23,
      "outputs": []
    },
    {
      "cell_type": "code",
      "source": [
        "get_report()"
      ],
      "metadata": {
        "colab": {
          "base_uri": "https://localhost:8080/"
        },
        "id": "GbFVaf9NDht-",
        "outputId": "0d6e5ab8-e18c-40e1-94ce-048a6c29b0b7"
      },
      "execution_count": 24,
      "outputs": [
        {
          "output_type": "stream",
          "name": "stdout",
          "text": [
            "3/3 [==============================] - 13s 6s/step\n",
            "              precision    recall  f1-score   support\n",
            "\n",
            "       human       0.39      0.40      0.40        62\n",
            "    no_human       0.30      0.30      0.30        47\n",
            "   uber_eats       0.48      0.47      0.48        74\n",
            "\n",
            "    accuracy                           0.40       183\n",
            "   macro avg       0.39      0.39      0.39       183\n",
            "weighted avg       0.40      0.40      0.40       183\n",
            "\n"
          ]
        }
      ]
    },
    {
      "cell_type": "code",
      "source": [
        "from keras.preprocessing.image import ImageDataGenerator, load_img, img_to_array"
      ],
      "metadata": {
        "id": "2DS3CmaQJvDK"
      },
      "execution_count": null,
      "outputs": []
    },
    {
      "cell_type": "code",
      "source": [
        "def predict_class(model, image_path):\n",
        "    # Load the image\n",
        "    img = load_img(image_path, target_size=(img_height, img_width))\n",
        "    img_array = img_to_array(img)\n",
        "\n",
        "    # Preprocess the image\n",
        "    img_batch = np.expand_dims(img_array, axis=0)\n",
        "    img_batch = img_batch / 255.0  # Normalize to [0, 1] range\n",
        "\n",
        "    # Make predictions\n",
        "    predictions = model.predict(img_batch, verbose=0)[0]\n",
        "\n",
        "    pred_class = predictions.argmax()\n",
        "    pred_prob = predictions[pred_class]\n",
        "\n",
        "    pred_label = class_map[pred_class]\n",
        "\n",
        "    return pred_label, pred_prob\n"
      ],
      "metadata": {
        "id": "VAuZ2BlFDn2V"
      },
      "execution_count": null,
      "outputs": []
    },
    {
      "cell_type": "code",
      "source": [
        "model = load_model('tl_model_v1.weights.best.hdf5')"
      ],
      "metadata": {
        "id": "s3DeWzXDJ3ij"
      },
      "execution_count": null,
      "outputs": []
    },
    {
      "cell_type": "code",
      "source": [
        "test_data_path = os.path.join(data_path, \"test\")\n",
        "image_path = os.path.join(test_data_path, \"human\", \"61.png\")\n",
        "predict_class(model, image_path)"
      ],
      "metadata": {
        "colab": {
          "base_uri": "https://localhost:8080/"
        },
        "id": "U7v0uTjcI_Bh",
        "outputId": "adfd2038-da95-4c0b-c81d-f5c261c9f466"
      },
      "execution_count": null,
      "outputs": [
        {
          "output_type": "execute_result",
          "data": {
            "text/plain": [
              "('human', 0.99598986)"
            ]
          },
          "metadata": {},
          "execution_count": 42
        }
      ]
    },
    {
      "cell_type": "code",
      "source": [
        "import matplotlib.pyplot as plt"
      ],
      "metadata": {
        "id": "1dxwIznfNYx2"
      },
      "execution_count": null,
      "outputs": []
    },
    {
      "cell_type": "code",
      "source": [
        "for cls in os.listdir(test_data_path):\n",
        "  if not cls.startswith('.'):\n",
        "    images = os.listdir(os.path.join(test_data_path, cls))\n",
        "    for img in images:\n",
        "      image_path = os.path.join(test_data_path, cls, img)\n",
        "      pred_cls, pred_prob = predict_class(model, image_path)\n",
        "      if pred_cls != cls:\n",
        "        print(f\"image: {img}, actual : {cls}, predicted : {pred_cls}, prob : {pred_prob}\")"
      ],
      "metadata": {
        "colab": {
          "base_uri": "https://localhost:8080/"
        },
        "id": "XRoPj4jDKZAF",
        "outputId": "c676c04e-288c-456a-ee01-632b2334d998"
      },
      "execution_count": null,
      "outputs": [
        {
          "output_type": "stream",
          "name": "stdout",
          "text": [
            "image: 287.png, actual : human, predicted : no_human, prob : 0.9687432050704956\n",
            "image: 342.png, actual : human, predicted : no_human, prob : 0.8450161218643188\n",
            "image: 309.png, actual : human, predicted : no_human, prob : 0.6755945086479187\n",
            "image: 197.png, actual : human, predicted : no_human, prob : 0.8086998462677002\n",
            "image: 405.png, actual : human, predicted : no_human, prob : 0.8385722637176514\n",
            "image: 497.png, actual : human, predicted : uber_eats, prob : 0.7559285163879395\n",
            "image: 522.png, actual : human, predicted : no_human, prob : 0.8554825782775879\n",
            "image: 148.png, actual : no_human, predicted : human, prob : 0.5573235154151917\n",
            "image: 128.png, actual : no_human, predicted : human, prob : 0.7180339694023132\n",
            "image: 284.png, actual : no_human, predicted : human, prob : 0.6750060319900513\n",
            "image: 275.png, actual : no_human, predicted : human, prob : 0.7030084729194641\n",
            "image: 212.png, actual : no_human, predicted : human, prob : 0.5449180603027344\n",
            "image: 119.png, actual : no_human, predicted : human, prob : 0.5394116640090942\n",
            "image: 352_0.png, actual : no_human, predicted : human, prob : 0.8062126040458679\n",
            "image: 182.png, actual : uber_eats, predicted : no_human, prob : 0.5637398362159729\n",
            "image: 77.png, actual : uber_eats, predicted : no_human, prob : 0.508858323097229\n",
            "image: 123.png, actual : uber_eats, predicted : no_human, prob : 0.9734165668487549\n",
            "image: 77_2.png, actual : uber_eats, predicted : no_human, prob : 0.947624683380127\n",
            "image: 171_0.png, actual : uber_eats, predicted : no_human, prob : 0.5327771306037903\n",
            "image: 192_2.png, actual : uber_eats, predicted : no_human, prob : 0.9111640453338623\n"
          ]
        }
      ]
    },
    {
      "cell_type": "code",
      "source": [],
      "metadata": {
        "id": "_3NXBgnyLyTm"
      },
      "execution_count": null,
      "outputs": []
    }
  ]
}